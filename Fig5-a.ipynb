{
 "cells": [
  {
   "cell_type": "code",
   "execution_count": 1,
   "id": "e5290d52-30e2-4ee9-9275-78d1d1e77826",
   "metadata": {},
   "outputs": [],
   "source": [
    "import numpy as np\n",
    "import networkx as nx\n",
    "import matplotlib.pyplot as plt\n",
    "import time"
   ]
  },
  {
   "cell_type": "code",
   "execution_count": 2,
   "id": "18a9c9bf-452a-4078-8220-db3ae8aef8f3",
   "metadata": {},
   "outputs": [],
   "source": [
    "class SmartGridNode:\n",
    "    def __init__(self, node_id):\n",
    "        self.node_id = node_id\n",
    "        self.public_key = self.generate_public_key()\n",
    "        self.private_key = self.generate_private_key()\n",
    "        \n",
    "    def generate_public_key(self):\n",
    "        # 模拟公钥生成\n",
    "        return f'PublicKey_{self.node_id}'\n",
    "    \n",
    "    def generate_private_key(self):\n",
    "        # 模拟私钥生成\n",
    "        return f'PrivateKey_{self.node_id}'\n",
    "    \n",
    "    def encrypt_data(self, data, receiver_public_key):\n",
    "        # 模拟加密操作\n",
    "        encrypted_data = f'Encrypted({data})_with_{receiver_public_key}'\n",
    "        return encrypted_data\n",
    "    \n",
    "    def decrypt_data(self, encrypted_data):\n",
    "        # 模拟解密操作\n",
    "        decrypted_data = encrypted_data.split('_with_')[0].replace('Encrypted(', '').replace(')', '')\n",
    "        return decrypted_data\n",
    "    \n",
    "    def sign_data(self, data):\n",
    "        # 模拟签名操作\n",
    "        signature = f'Signature_of_{data}_by_{self.node_id}'\n",
    "        return signature\n",
    "    \n",
    "    def verify_signature(self, data, signature, sender_id):\n",
    "        # 模拟签名验证\n",
    "        expected_signature = f'Signature_of_{data}_by_{sender_id}'\n",
    "        return signature == expected_signature"
   ]
  },
  {
   "cell_type": "code",
   "execution_count": 3,
   "id": "85206e8a-07a3-4545-af9f-4fbdcbb892c3",
   "metadata": {},
   "outputs": [],
   "source": [
    "# 创建智能电网节点\n",
    "nodes = {}\n",
    "for i in range(1, 6):\n",
    "    nodes[i] = SmartGridNode(i)\n",
    "\n",
    "# 创建网络拓扑\n",
    "G = nx.Graph()\n",
    "G.add_nodes_from(nodes.keys())\n",
    "edges = [(1, 2), (2, 3), (3, 4), (4, 5), (5, 1)]\n",
    "G.add_edges_from(edges)"
   ]
  },
  {
   "cell_type": "code",
   "execution_count": 4,
   "id": "a72ca728-27fc-4466-8aa5-b51afef8df52",
   "metadata": {},
   "outputs": [
    {
     "name": "stdout",
     "output_type": "stream",
     "text": [
      "数据传输完成，验证结果：True\n",
      "总耗时：0.036255 秒\n",
      "吞吐量：248.240792 字符/秒\n",
      "计算开销：0.000976 秒\n"
     ]
    }
   ],
   "source": [
    "# 定义性能指标列表\n",
    "throughputs = []\n",
    "latencies = []\n",
    "computational_overheads = []\n",
    "\n",
    "# 模拟节点 1 向节点 3 发送数据\n",
    "sender = nodes[1]\n",
    "receiver = nodes[3]\n",
    "data = 'PowerData'\n",
    "\n",
    "# 记录开始时间\n",
    "start_time = time.time()\n",
    "\n",
    "# 加密数据\n",
    "encrypt_start = time.time()\n",
    "encrypted_data = sender.encrypt_data(data, receiver.public_key)\n",
    "encrypt_end = time.time()\n",
    "encrypt_time = encrypt_end - encrypt_start\n",
    "\n",
    "# 签名数据\n",
    "sign_start = time.time()\n",
    "signature = sender.sign_data(data)\n",
    "sign_end = time.time()\n",
    "sign_time = sign_end - sign_start\n",
    "\n",
    "# 模拟传输时间\n",
    "transmit_start = time.time()\n",
    "time.sleep(0.01)  # 假设传输延迟为 0.01 秒\n",
    "transmit_end = time.time()\n",
    "transmit_time = transmit_end - transmit_start\n",
    "\n",
    "# 解密数据\n",
    "decrypt_start = time.time()\n",
    "decrypted_data = receiver.decrypt_data(encrypted_data)\n",
    "decrypt_end = time.time()\n",
    "decrypt_time = decrypt_end - decrypt_start\n",
    "\n",
    "# 验证签名\n",
    "verify_start = time.time()\n",
    "is_valid = receiver.verify_signature(decrypted_data, signature, sender.node_id)\n",
    "verify_end = time.time()\n",
    "verify_time = verify_end - verify_start\n",
    "\n",
    "# 记录结束时间\n",
    "end_time = time.time()\n",
    "\n",
    "# 计算性能指标\n",
    "total_time = end_time - start_time\n",
    "latencies.append(total_time)\n",
    "throughputs.append(len(data) / total_time)\n",
    "computational_overheads.append(encrypt_time + decrypt_time + sign_time + verify_time)\n",
    "\n",
    "# 输出结果\n",
    "print(f'数据传输完成，验证结果：{is_valid}')\n",
    "print(f'总耗时：{total_time:.6f} 秒')\n",
    "print(f'吞吐量：{throughputs[-1]:.6f} 字符/秒')\n",
    "print(f'计算开销：{computational_overheads[-1]:.6f} 秒')"
   ]
  },
  {
   "cell_type": "code",
   "execution_count": 5,
   "id": "57ae221a-07be-4df9-bc44-0fbcce295c95",
   "metadata": {},
   "outputs": [
    {
     "data": {
      "image/png": "[encoded data removed]",
      "text/plain": [
       "<Figure size 864x288 with 3 Axes>"
      ]
     },
     "metadata": {
      "needs_background": "light"
     },
     "output_type": "display_data"
    }
   ],
   "source": [
    "# 绘制性能指标图表\n",
    "plt.figure(figsize=(12, 4))\n",
    "\n",
    "# 延迟\n",
    "plt.subplot(1, 3, 1)\n",
    "plt.bar(['Latency'], [np.mean(latencies)], color='skyblue')\n",
    "plt.ylabel('Seconds')\n",
    "plt.title('Average Latency')\n",
    "\n",
    "# 吞吐量\n",
    "plt.subplot(1, 3, 2)\n",
    "plt.bar(['Throughput'], [np.mean(throughputs)], color='lightgreen')\n",
    "plt.ylabel('Characters per Second')\n",
    "plt.title('Average Throughput')\n",
    "\n",
    "# 计算开销\n",
    "plt.subplot(1, 3, 3)\n",
    "plt.bar(['Computational Overhead'], [np.mean(computational_overheads)], color='salmon')\n",
    "plt.ylabel('Seconds')\n",
    "plt.title('Average Computational Overhead')\n",
    "\n",
    "plt.tight_layout()\n",
    "plt.show()"
   ]
  },
  {
   "cell_type": "code",
   "execution_count": 8,
   "id": "1af5833f-a5b8-4b68-8c67-9ba998ce4c46",
   "metadata": {},
   "outputs": [],
   "source": [
    "# 定义性能指标列表\n",
    "throughputs = []\n",
    "latencies = []\n",
    "computational_overheads = []\n",
    "\n",
    "# 实验次数\n",
    "num_experiments = 500\n",
    "\n",
    "for _ in range(num_experiments):\n",
    "    # 模拟节点 1 向节点 3 发送数据\n",
    "    sender = nodes[1]\n",
    "    receiver = nodes[3]\n",
    "    data = 'PowerData'\n",
    "    \n",
    "    # 记录开始时间\n",
    "    start_time = time.time()\n",
    "    \n",
    "    # 加密数据\n",
    "    encrypt_start = time.time()\n",
    "    encrypted_data = sender.encrypt_data(data, receiver.public_key)\n",
    "    encrypt_end = time.time()\n",
    "    encrypt_time = encrypt_end - encrypt_start\n",
    "    \n",
    "    # 签名数据\n",
    "    sign_start = time.time()\n",
    "    signature = sender.sign_data(data)\n",
    "    sign_end = time.time()\n",
    "    sign_time = sign_end - sign_start\n",
    "    \n",
    "    # 模拟传输时间\n",
    "    transmit_start = time.time()\n",
    "    time.sleep(np.random.uniform(0.005, 0.015))  # 随机传输延迟在 5ms 到 15ms 之间\n",
    "    transmit_end = time.time()\n",
    "    transmit_time = transmit_end - transmit_start\n",
    "    \n",
    "    # 解密数据\n",
    "    decrypt_start = time.time()\n",
    "    decrypted_data = receiver.decrypt_data(encrypted_data)\n",
    "    decrypt_end = time.time()\n",
    "    decrypt_time = decrypt_end - decrypt_start\n",
    "    \n",
    "    # 验证签名\n",
    "    verify_start = time.time()\n",
    "    is_valid = receiver.verify_signature(decrypted_data, signature, sender.node_id)\n",
    "    verify_end = time.time()\n",
    "    verify_time = verify_end - verify_start\n",
    "    \n",
    "    # 记录结束时间\n",
    "    end_time = time.time()\n",
    "    \n",
    "    # 计算性能指标\n",
    "    total_time = end_time - start_time\n",
    "    latencies.append(total_time)\n",
    "    throughputs.append(len(data) / total_time)\n",
    "    computational_overheads.append(encrypt_time + decrypt_time + sign_time + verify_time)\n"
   ]
  },
  {
   "cell_type": "code",
   "execution_count": 9,
   "id": "2045f859-79ac-45f2-bbc4-dd5e3b8d25a5",
   "metadata": {},
   "outputs": [
    {
     "data": {
      "image/png": "[encoded data removed]",
      "text/plain": [
       "<Figure size 1080x288 with 3 Axes>"
      ]
     },
     "metadata": {
      "needs_background": "light"
     },
     "output_type": "display_data"
    }
   ],
   "source": [
    "# 将性能指标转换为 numpy 数组\n",
    "latencies = np.array(latencies)\n",
    "throughputs = np.array(throughputs)\n",
    "computational_overheads = np.array(computational_overheads)\n",
    "\n",
    "# 绘制延迟的箱线图\n",
    "plt.figure(figsize=(15, 4))\n",
    "\n",
    "plt.subplot(1, 3, 1)\n",
    "plt.boxplot(latencies * 1000)  # 转换为毫秒\n",
    "plt.ylabel('Latency (ms)')\n",
    "plt.title('Latency Distribution over 50 Runs')\n",
    "\n",
    "# 绘制吞吐量的箱线图\n",
    "plt.subplot(1, 3, 2)\n",
    "plt.boxplot(throughputs)\n",
    "plt.ylabel('Throughput (characters/second)')\n",
    "plt.title('Throughput Distribution over 50 Runs')\n",
    "\n",
    "# 绘制计算开销的箱线图\n",
    "plt.subplot(1, 3, 3)\n",
    "plt.boxplot(computational_overheads * 1000)  # 转换为毫秒\n",
    "plt.ylabel('Computational Overhead (ms)')\n",
    "plt.title('Computational Overhead over 50 Runs')\n",
    "\n",
    "plt.tight_layout()\n",
    "plt.show()\n"
   ]
  },
  {
   "cell_type": "code",
   "execution_count": null,
   "id": "01347e95-b238-47e0-bd80-f81b562e9448",
   "metadata": {},
   "outputs": [],
   "source": []
  }
 ],
 "metadata": {
  "kernelspec": {
   "display_name": "Python 3",
   "language": "python",
   "name": "python3"
  },
  "language_info": {
   "codemirror_mode": {
    "name": "ipython",
    "version": 3
   },
   "file_extension": ".py",
   "mimetype": "text/x-python",
   "name": "python",
   "nbconvert_exporter": "python",
   "pygments_lexer": "ipython3",
   "version": "3.9.12"
  }
 },
 "nbformat": 4,
 "nbformat_minor": 5
}
